{
 "cells": [
  {
   "attachments": {},
   "cell_type": "markdown",
   "metadata": {},
   "source": [
    "Install dependencies"
   ]
  },
  {
   "cell_type": "code",
   "execution_count": 12,
   "metadata": {},
   "outputs": [],
   "source": [
    "import tensorflow as tf\n",
    "import os"
   ]
  },
  {
   "attachments": {},
   "cell_type": "markdown",
   "metadata": {},
   "source": [
    "Couldnt get GPU to work, so I used CPU instead (I have a 2080ti, so I dont know what the problem is)"
   ]
  },
  {
   "cell_type": "code",
   "execution_count": 15,
   "metadata": {},
   "outputs": [
    {
     "name": "stdout",
     "output_type": "stream",
     "text": [
      "Num GPUs Available:  0\n"
     ]
    }
   ],
   "source": [
    "print(\"Num GPUs Available: \", len(tf.config.list_physical_devices('GPU')))"
   ]
  },
  {
   "attachments": {},
   "cell_type": "markdown",
   "metadata": {},
   "source": [
    "Script to remove bad images"
   ]
  },
  {
   "cell_type": "code",
   "execution_count": 2,
   "metadata": {},
   "outputs": [
    {
     "name": "stdout",
     "output_type": "stream",
     "text": [
      "data\\happy\\7-Habits-of-Happy-People-image.jpeg wrong extension\n",
      "data\\happy\\Habits-of-Financially-Happy-People-1280x720.webp wrong extension\n",
      "data\\happy\\happiness_thumbnail.jpg wrong extension\n",
      "data\\happy\\Happy20People.jpg wrong extension\n",
      "data\\happy\\traitshappypeople.jpg.webp wrong extension\n",
      "data\\sad\\2_still_2x.gif wrong extension\n",
      "data\\sad\\39843138-sad-man.jpg wrong extension\n",
      "data\\sad\\crying-sad.gif wrong extension\n",
      "data\\sad\\depositphotos_508407352-stock-photo-caucasian-male-sitting-floor-windows.jpg wrong extension\n",
      "data\\sad\\very-sad-man-sitting-alone-on-white-background-depressed-young-man-sitting-businessman-vector.jpg wrong extension\n"
     ]
    }
   ],
   "source": [
    "import imghdr as imghdr\n",
    "import cv2\n",
    "import os\n",
    "\n",
    "\n",
    "\n",
    "image_exts = ['jpeg','jpg', 'bmp', 'png']\n",
    "data_dir = 'data'\n",
    "for classes in os.listdir(data_dir):\n",
    "    for img in os.listdir(os.path.join(data_dir, classes)):\n",
    "        \n",
    "        try:\n",
    "            if imghdr.what(os.path.join(data_dir, classes, img)) not in image_exts:\n",
    "                print(os.path.join(data_dir, classes, img),\"wrong extension\")\n",
    "                os.remove(os.path.join(data_dir, classes, img))\n",
    "            img=cv2.imread(os.path.join(data_dir, classes, img))\n",
    "        except:\n",
    "            print((os.path.join(data_dir, classes, img)),\"tought to open\")\n",
    "            os.remove(os.path.join(data_dir, classes, img))\n",
    "            \n",
    "        \n",
    "            "
   ]
  },
  {
   "attachments": {},
   "cell_type": "markdown",
   "metadata": {},
   "source": [
    "Load Data"
   ]
  }
 ],
 "metadata": {
  "kernelspec": {
   "display_name": "Python 3",
   "language": "python",
   "name": "python3"
  },
  "language_info": {
   "codemirror_mode": {
    "name": "ipython",
    "version": 3
   },
   "file_extension": ".py",
   "mimetype": "text/x-python",
   "name": "python",
   "nbconvert_exporter": "python",
   "pygments_lexer": "ipython3",
   "version": "3.11.1"
  },
  "orig_nbformat": 4
 },
 "nbformat": 4,
 "nbformat_minor": 2
}
